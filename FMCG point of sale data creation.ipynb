{
 "cells": [
  {
   "cell_type": "code",
   "execution_count": null,
   "id": "1b896aa0",
   "metadata": {},
   "outputs": [],
   "source": [
    "#### Set the right directory\n",
    "#### Need to put in C drive since R-drive cannot hold big file!\n",
    "\n",
    "%cd \"C:\\GfK\""
   ]
  },
  {
   "cell_type": "code",
   "execution_count": null,
   "id": "0eea3c6b",
   "metadata": {},
   "outputs": [],
   "source": [
    "### Import NumPy and Pandas\n",
    "\n",
    "import pandas as pd\n",
    "import numpy as np"
   ]
  },
  {
   "cell_type": "code",
   "execution_count": null,
   "id": "55a6df28",
   "metadata": {},
   "outputs": [],
   "source": [
    "### We want to use the initial file with all the point of sale FMCG purchases and aggregate all the transactions \n",
    "### in the 2nd half of 2020\n",
    "\n",
    "### Read in the FMCG_2020 file\n",
    "fmcg_2020_post = pd.read_csv('finaldata_FMCG_2020.csv')\n",
    "\n",
    "df = fmcg_2020_post.copy(:)"
   ]
  },
  {
   "cell_type": "code",
   "execution_count": null,
   "id": "92016280",
   "metadata": {},
   "outputs": [],
   "source": [
    "### The column 'wert' that contains the total value of the point of sale purchase is defined in cents \n",
    "### so we normalise it euros, by dividing all values of the 'wert' column by 100\n",
    "\n",
    "df['wert'] = df['wert']/100"
   ]
  },
  {
   "cell_type": "code",
   "execution_count": null,
   "id": "0e3456e3",
   "metadata": {},
   "outputs": [],
   "source": [
    "### We do the aggregation of all point of sale FMCG transations by summing up all transactions from the column, 'wert' \n",
    "### by a household using the household identifier 'hhkey' and we save it as a dataframe fmcg_hh_agg_values which only\n",
    "### has 1 record with the aggregated fmcg expenditure value per household\n",
    "\n",
    "fmcg_hh_agg_values = df.groupby('hhkey')['wert'].agg('sum')\n",
    "\n",
    "### Re-name this aggregated column from 'wert' to fmcg_2_euro so there are no issues with the merging below\n",
    "fmcg_hh_agg_values.rename(columns={'wert':'fmcg_2_euro'}, axis = 1)\n"
   ]
  },
  {
   "cell_type": "code",
   "execution_count": null,
   "id": "95512f55",
   "metadata": {},
   "outputs": [],
   "source": [
    "### We go back to our original dataframe with all the transactions, df \n",
    "### As all the relevant background household information is the same for all columns for each transaction\n",
    "### we only now need 1 record of these columns for each household because we want to merge it with the aggregated\n",
    "### fmcg purchases from the 2nd half of 2020 dataframe created above, fmcg_hh_agg_values,\n",
    "### which as mentioned above has 1 value per household\n",
    "\n",
    "### We sort the records s.t. all records within 1 household, follow one another\n",
    "df.sort_values('hhkey')\n",
    "\n",
    "### We now just take the first record for each household and drop the rest\n",
    "df = df.groupby('hhkey').head(1).reset_index(drop=True)"
   ]
  },
  {
   "cell_type": "code",
   "execution_count": null,
   "id": "dce3da01",
   "metadata": {},
   "outputs": [],
   "source": [
    "### Now we can merge this dataframe with the fmcg_hh_agg_values dataframe very simply\n",
    "\n",
    "fmcg_all_one_per_hh = df.merge('fmcg_hh_agg_values', how='inner', on='hhkey', indicator = True)\n",
    "\n",
    "### Set condition that we only want household records in both dataframes (the column hhkey exists in both dataframes)\n",
    "inner_join = fmcg_all_one_per_hh['_merge'] == 'both'\n",
    "\n",
    "### Drop all records not in both dataframes from the condition above\n",
    "fmcg_all_one_per_hh = fmcg_all_one_per_hh.loc[inner_join]\n",
    "\n",
    "### Save the file to be used in the next step\n",
    "pd.to_csv('finaldata_FMCG_2020.csv', index_col = False)"
   ]
  }
 ],
 "metadata": {
  "kernelspec": {
   "display_name": "Python 3",
   "language": "python",
   "name": "python3"
  },
  "language_info": {
   "codemirror_mode": {
    "name": "ipython",
    "version": 3
   },
   "file_extension": ".py",
   "mimetype": "text/x-python",
   "name": "python",
   "nbconvert_exporter": "python",
   "pygments_lexer": "ipython3",
   "version": "3.8.8"
  }
 },
 "nbformat": 4,
 "nbformat_minor": 5
}
