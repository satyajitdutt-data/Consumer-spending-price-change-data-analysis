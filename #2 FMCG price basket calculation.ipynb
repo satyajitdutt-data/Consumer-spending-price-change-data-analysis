{
 "cells": [
  {
   "cell_type": "code",
   "execution_count": null,
   "id": "1b896aa0",
   "metadata": {},
   "outputs": [],
   "source": [
    "#### Set the right directory\n",
    "#### Need to put in C drive since R-drive cannot hold big file!\n",
    "\n",
    "%cd \"C:\\GfK\""
   ]
  },
  {
   "cell_type": "code",
   "execution_count": null,
   "id": "0eea3c6b",
   "metadata": {},
   "outputs": [],
   "source": [
    "### Import NumPy and Pandas\n",
    "\n",
    "import pandas as pd\n",
    "import numpy as np"
   ]
  },
  {
   "cell_type": "code",
   "execution_count": null,
   "id": "55a6df28",
   "metadata": {},
   "outputs": [],
   "source": [
    "### We want to use the initial file with all the point of sale FMCG purchases from the 2nd half of 2019\n",
    "\n",
    "### Read in the FMCG_2019 file\n",
    "fmcg_2019_post = pd.read_csv('finaldata_FMCG_2019.csv')\n",
    "\n",
    "df19 = fmcg_2019_post.copy(:)"
   ]
  },
  {
   "cell_type": "code",
   "execution_count": null,
   "id": "92016280",
   "metadata": {},
   "outputs": [],
   "source": [
    "### The column 'wert' that contains the total value of the point of sale purchase is defined in cents \n",
    "### so we normalise it euros, by dividing all values of the 'wert' column by 100\n",
    "\n",
    "df19['wert'] = df19['wert']/100\n",
    "\n",
    "### We then compute the unit price of each item purchased by dividing the total expenditure for that\n",
    "### item by the total number of units purchased (in German 'anzahl')\n",
    "\n",
    "df19['item_price'] = df19['wert']/df19['anzahl']"
   ]
  },
  {
   "cell_type": "code",
   "execution_count": null,
   "id": "0e3456e3",
   "metadata": {},
   "outputs": [],
   "source": [
    "### To compute the price basket of households in 2020 H2, we must compute the average price and quantity\n",
    "### of each fast moving good (artikelschluessel) for each household (hhkey) purchased in 2019 H2. \n",
    "\n",
    "fmcg_hh_avg_2019_price = df19.groupby(['hhkey','artikelschluessel'])['item_price'].agg('mean')\n",
    "fmcg_hh_avg_2019_quantity = df19.groupby(['hhkey','artikelschluessel'])['anzahl'].agg('mean')"
   ]
  },
  {
   "cell_type": "code",
   "execution_count": null,
   "id": "95512f55",
   "metadata": {},
   "outputs": [],
   "source": [
    "### For the 2019 dataset, we want to have 1 record for each good that the household purchased\n",
    "### with their average price and quantity for that good.\n",
    "\n",
    "### We sort the records for each household and specific good\n",
    "df19.sort_values(['hhkey','artikelschluessel'])\n",
    "\n",
    "### We now just take the first record for each household and each good that they purchased and drop the rest\n",
    "df19 = df19.groupby(['hhkey','artikelschluessel']).head(1).reset_index(drop=True)\n",
    "\n",
    "### We only need to keep the columns of the household id,, the good id and the average price and quantity \n",
    "### purchased for that specific good.\n",
    "df19 = df19(['hhkey','artikelschluessel','fmcg_hh_avg_2019_price','fmcg_hh_avg_2019_quantity'])"
   ]
  },
  {
   "cell_type": "code",
   "execution_count": null,
   "id": "6ae9ba9d",
   "metadata": {},
   "outputs": [],
   "source": [
    "### We now go to the FMCG purchases from the 2nd half of 2020\n",
    "\n",
    "### Read in the FMCG_2020 file\n",
    "fmcg_2020_post = pd.read_csv('finaldata_FMCG_2020.csv')\n",
    "\n",
    "df1920 = fmcg_2020_post.copy(:)"
   ]
  },
  {
   "cell_type": "code",
   "execution_count": null,
   "id": "dce3da01",
   "metadata": {},
   "outputs": [],
   "source": [
    "### Now we can merge the 2020 FMCG point of sale data with the df19 dataframe where we merge on the household \n",
    "### and the corresponding good in 2019. Thus we do an inner join\n",
    "\n",
    "df1920 = df1920.merge('df19', how='inner', on=['hhkey','artikelschluessel'], indicator = True)\n",
    "\n",
    "### Set condition that we only want household records in both dataframes (the column hhkey and artikelschluessel\n",
    "### exists in both dataframes)\n",
    "inner_join = df1920['_merge'] == 'both'\n",
    "\n",
    "### Drop all records not in both dataframes from the condition above\n",
    "df1920= df1920.loc[inner_join]"
   ]
  },
  {
   "cell_type": "code",
   "execution_count": null,
   "id": "184d1906",
   "metadata": {},
   "outputs": [],
   "source": [
    "### The column 'wert' that contains the total value of the point of sale purchase is defined in cents \n",
    "### so we normalise it euros, by dividing all values of the 'wert' column by 100\n",
    "\n",
    "df1920['wert'] = df1920['wert']/100\n",
    "\n",
    "### We then compute the unit price of each item purchased by dividing the total expenditure for that\n",
    "### item by the total number of units purchased (in German 'anzahl')\n",
    "\n",
    "df1920['item_price'] = df1920['wert']/df1920['anzahl']"
   ]
  },
  {
   "cell_type": "code",
   "execution_count": null,
   "id": "d3d0cbd0",
   "metadata": {},
   "outputs": [],
   "source": [
    "### To compute the price basket, we need to compute the average price that the household purchased for the\n",
    "### good in 2020. Note that we are computing the Laspeyres price basket which fixes the quantity which in \n",
    "### our case is the average quantity purchased in 2019 H2\n",
    "fmcg_hh_avg_2020_price = df1920.groupby(['hhkey','artikelschluessel'])['item_price'].agg('mean')"
   ]
  },
  {
   "cell_type": "code",
   "execution_count": null,
   "id": "10dba62d",
   "metadata": {},
   "outputs": [],
   "source": [
    "### To compute the price basket we first keep 1 record per good and household. We sort all the records by household and \n",
    "### good id.Then we take the first record for each household and each good that they purchased and drop the rest\n",
    "\n",
    "df1920 = df1920.groupby(['hhkey','artikelschluessel']).head(1).reset_index(drop=True)"
   ]
  },
  {
   "cell_type": "code",
   "execution_count": null,
   "id": "5920a3af",
   "metadata": {},
   "outputs": [],
   "source": [
    "### To compute the price basket, we need to compute the change in the average price of the good that the household\n",
    "### paid in 2020 compared to 2019 and multiply it by the average 2019 quantity (See Laspeyres Index for the formula)\n",
    "\n",
    "fmcg_2020_part = (np.log10(fmcg_hh_avg_2020_price) - np.log10(fmcg_hh_avg_2019_price))*fmcg_hh_avg_2019_quantity\n",
    "fmcg_2019_part = fmcg_hh_avg_2019_price*fmcg_hh_avg_2019_quantity"
   ]
  },
  {
   "cell_type": "code",
   "execution_count": null,
   "id": "d1e3b316",
   "metadata": {},
   "outputs": [],
   "source": [
    "### We must now aggregate the price changes across all goods for each household before we divide 2020 by 2019\n",
    "\n",
    "fmcg_hh_avg_2020_total = df1920.groupby('hhkey')['fmcg_2020_part'].agg('sum')\n",
    "fmcg_hh_avg_2019_total = df1920.groupby('hhkey')['fmcg_2020_part'].agg('sum')"
   ]
  },
  {
   "cell_type": "code",
   "execution_count": null,
   "id": "16bcfcc3",
   "metadata": {},
   "outputs": [],
   "source": [
    "### We compute the price basket now by dividing the 2020 change of price for the 2019 average quantity by\n",
    "### the 2019 average price and quantity\n",
    "\n",
    "fmcg1920_pricebasket = fmcg_hh_avg_2020_total/fmcg_hh_avg_2019_total\n",
    "\n",
    "### We only need to keep one record per household with their price basket\n",
    "df1920 = df1920.groupby('hhkey').head(1).reset_index(drop=True)\n",
    "\n",
    "### Save the file\n",
    "pd.to_csv('FMCG_1920.csv', index_col = False)"
   ]
  }
 ],
 "metadata": {
  "kernelspec": {
   "display_name": "Python 3 (ipykernel)",
   "language": "python",
   "name": "python3"
  },
  "language_info": {
   "codemirror_mode": {
    "name": "ipython",
    "version": 3
   },
   "file_extension": ".py",
   "mimetype": "text/x-python",
   "name": "python",
   "nbconvert_exporter": "python",
   "pygments_lexer": "ipython3",
   "version": "3.11.5"
  }
 },
 "nbformat": 4,
 "nbformat_minor": 5
}
